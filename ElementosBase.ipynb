{
  "nbformat": 4,
  "nbformat_minor": 0,
  "metadata": {
    "colab": {
      "provenance": [],
      "authorship_tag": "ABX9TyNlG1i88AoTJ1jkU+JBx3tz",
      "include_colab_link": true
    },
    "kernelspec": {
      "name": "python3",
      "display_name": "Python 3"
    },
    "language_info": {
      "name": "python"
    }
  },
  "cells": [
    {
      "cell_type": "markdown",
      "metadata": {
        "id": "view-in-github",
        "colab_type": "text"
      },
      "source": [
        "<a href=\"https://colab.research.google.com/github/brayanmezac/Linear-algebra/blob/main/ElementosBase.ipynb\" target=\"_parent\"><img src=\"https://colab.research.google.com/assets/colab-badge.svg\" alt=\"Open In Colab\"/></a>"
      ]
    },
    {
      "cell_type": "markdown",
      "source": [
        "# Elementos base: escalar, vector, matriz\n",
        "---\n",
        "## escalar:\n",
        "un escalar en algebra es algo que multiplica y en py puede der desde un número hasta un string"
      ],
      "metadata": {
        "id": "HPwt2U0Bnaro"
      }
    },
    {
      "cell_type": "code",
      "execution_count": 6,
      "metadata": {
        "colab": {
          "base_uri": "https://localhost:8080/"
        },
        "id": "lJ4HlXI-nZu5",
        "outputId": "706530b6-d2e9-4f0d-9294-6d2863542d6b"
      },
      "outputs": [
        {
          "output_type": "stream",
          "name": "stdout",
          "text": [
            "567\n"
          ]
        }
      ],
      "source": [
        "K = 567\n",
        "print(escalar)"
      ]
    },
    {
      "cell_type": "code",
      "source": [
        "# escalar buleano\n",
        "k_boolean = True\n",
        "print(k_boolean)\n",
        "print(f'k es de tipo {type(k_boolean)} ')"
      ],
      "metadata": {
        "colab": {
          "base_uri": "https://localhost:8080/"
        },
        "id": "251Az5WvokLQ",
        "outputId": "3fc57970-e9c9-459b-ce02-c54bb898dc3d"
      },
      "execution_count": 5,
      "outputs": [
        {
          "output_type": "stream",
          "name": "stdout",
          "text": [
            "True\n",
            "k es de tipo <class 'bool'> \n"
          ]
        }
      ]
    },
    {
      "cell_type": "markdown",
      "source": [
        "En álgebra lineal, existen diferentes tipos de objetos matemáticos que se pueden operar de distintas formas. Un escalar es un número que solo tiene magnitud, como 3 o -5. Un vector es una colección ordenada de escalares que tiene magnitud y dirección, como [2, 4, -1]. Una matriz es una colección ordenada de vectores que tiene filas y columnas, como [[1, 0], [0, 1]]. Un tensor es una generalización de una matriz que puede tener más de dos dimensiones, como [[[1, 0], [0, 1]], [[0, 1], [1, 0]]]. El grado de libertad de cada objeto se refiere al número de componentes independientes que lo definen. Por ejemplo, un escalar tiene un grado de libertad, un vector tiene tantos grados de libertad como su longitud, una matriz tiene tantos grados de libertad como el producto de sus dimensiones y un tensor tiene tantos grados de libertad como el producto de todas sus dimensiones.\n",
        "\n",
        "Numpy es un modulo de python que nos permite escribir vectores, matrices y tensores de una forma más óptima. Su nombre significa \"Numerical Python\" y sirve para realizar operaciones matemáticas con arrays multidimensionales de forma eficiente y sencilla. Numpy es una librería muy popular entre los científicos de datos, los ingenieros y los programadores, ya que ofrece una gran variedad de funciones y métodos para trabajar con datos numéricos."
      ],
      "metadata": {
        "id": "9g33z9kvsqCa"
      }
    },
    {
      "cell_type": "code",
      "source": [
        "# importamos numpy\n",
        "import numpy as np\n",
        "\n",
        "# crearemos nuestro vector\n",
        "vector = np.array([1, 2, 3])\n",
        "print(f'vector = {vector}')"
      ],
      "metadata": {
        "colab": {
          "base_uri": "https://localhost:8080/"
        },
        "id": "k63g5X9Ov4g8",
        "outputId": "5caaf1a4-6aaa-458c-a053-fd2c7483fa57"
      },
      "execution_count": 8,
      "outputs": [
        {
          "output_type": "stream",
          "name": "stdout",
          "text": [
            "vector = [1 2 3]\n"
          ]
        }
      ]
    },
    {
      "cell_type": "code",
      "source": [
        "# Matriz\n",
        "matriz = np.array([[1, 2, 3],[4, 5, 6],[7, 8, 9]])\n",
        "print(f'matris = \\n {matriz}')"
      ],
      "metadata": {
        "colab": {
          "base_uri": "https://localhost:8080/"
        },
        "id": "rY-qWbILx8tP",
        "outputId": "158225e4-4ad8-49e7-cc2e-a9e5c8e54ac7"
      },
      "execution_count": 14,
      "outputs": [
        {
          "output_type": "stream",
          "name": "stdout",
          "text": [
            "matris = \n",
            " [[1 2 3]\n",
            " [4 5 6]\n",
            " [7 8 9]]\n"
          ]
        }
      ]
    },
    {
      "cell_type": "code",
      "source": [
        "#tensor\n",
        "tensor = np.array([6*matriz,14*matriz,28*matriz] )\n",
        "print(f'tensor = \\n {tensor}')"
      ],
      "metadata": {
        "colab": {
          "base_uri": "https://localhost:8080/"
        },
        "id": "aJ_T71nrz5ML",
        "outputId": "dff293d7-bd35-41de-d1c8-b531bd3d920b"
      },
      "execution_count": 48,
      "outputs": [
        {
          "output_type": "stream",
          "name": "stdout",
          "text": [
            "tensor = \n",
            " [[[  6  12  18]\n",
            "  [ 24  30  36]\n",
            "  [ 42  48  54]]\n",
            "\n",
            " [[ 14  28  42]\n",
            "  [ 56  70  84]\n",
            "  [ 98 112 126]]\n",
            "\n",
            " [[ 28  56  84]\n",
            "  [112 140 168]\n",
            "  [196 224 252]]]\n"
          ]
        }
      ]
    },
    {
      "cell_type": "code",
      "source": [
        "%matplotlib inline\n",
        "import matplotlib.pyplot as plt\n",
        "plt.imshow(tensor, interpolation = 'nearest')\n",
        "plt.show()"
      ],
      "metadata": {
        "id": "vDfSJKlI1nAi",
        "outputId": "e299dce4-a43e-4fa0-8710-ab1841284495",
        "colab": {
          "base_uri": "https://localhost:8080/",
          "height": 273
        }
      },
      "execution_count": 49,
      "outputs": [
        {
          "output_type": "display_data",
          "data": {
            "text/plain": [
              "<Figure size 640x480 with 1 Axes>"
            ],
            "image/png": "[encoded data removed]"
          },
          "metadata": {}
        }
      ]
    }
  ]
}